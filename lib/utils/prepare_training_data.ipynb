{
 "cells": [
  {
   "cell_type": "code",
   "execution_count": 1,
   "metadata": {},
   "outputs": [],
   "source": [
    "# 這是準備訓練資料的程式碼，主要是將資料集的圖片檔案，以及對應的標籤檔案，移在一起，並且將標籤檔案轉換成數字的索引，以便後續的訓練使用\n",
    "# source C:\\Application\\Develop\\CRNN_Chinese_Characters_Rec_data\\datasets\\...\n",
    "# target C:\\Application\\Develop\\CRNN_Chinese_Characters_Rec_data\\datasets\\train\\\n",
    "# label_target C:\\Application\\Develop\\CRNN_Chinese_Characters_Rec_data\\datasets\\train\\label.txt\n",
    "# separator label.txt to train.txt and test.txt\n",
    "\n",
    "# include check image orentation\n",
    "# include check image size and padding to width\n",
    "# include encode train.txt and test.txt label to index"
   ]
  },
  {
   "cell_type": "code",
   "execution_count": 9,
   "metadata": {},
   "outputs": [],
   "source": [
    "import glob\n",
    "import os \n",
    "import cv2\n",
    "import shutil\n",
    "import time\n",
    "from PIL import Image, ImageOps\n",
    "import tqdm\n",
    "# from tqdm.notebook import tqdm\n"
   ]
  },
  {
   "cell_type": "code",
   "execution_count": 10,
   "metadata": {},
   "outputs": [
    {
     "name": "stdout",
     "output_type": "stream",
     "text": [
      "45 ['ibodict_c2w_cs0_na2_wd1153_b0_al1_rbl_m2_tc_ft', 'ibodict_c2w_cs1_na2_wd1153_b0_al0_rbl_m0', 'ibodict_c2w_cs1_na2_wd1153_b0_al0_rbl_m0_rk', 'ibodict_c2w_cs2_na2_wd1153_b1_al2_rbl_m1', 'lcn_c2w_w20_cs0_sw1_na2_wd1153_b1_al2_rbl_m0_rk', 'lcn_c2w_w30_cs1_sw0_na2_wd1153_b1_al1_rbl_m0_rk', 'lcn_c2w_w40_cs0_sw0_na2_wd1153_b1_al2_rbl_m0_do', 'lcn_c3w_w30_cs1_sw0_na2_wd1153_b0_al1_rbl_m1', 'lcn_c3w_w30_cs1_sw1_na2_wd1153_b0_al0_rbl_fi', 'let_c1w_w7_cs1_sw1_na2_wd1153_b1_al2_rbl_fi', 'let_c5k_w7_cs1_sw1_na2_wd1153_b0_al0_rbl_m1_do', 'let_c5k_w7_cs1_sw1_na2_wd1153_b0_al1_rbl_m1_rk', 'let_c5k_w7_cs1_sw1_na2_wd1153_b1_al0_rbl_fi_tc', 'let_num_c1w_w6_cs1_sw1_na2_wd1153_b3_al2_rbl_m0_tc', 'let_num_c1w_w7_cs1_sw1_na2_wd1153_b3_al1_rbl_fi_tc', 'let_num_c2w_w7_cs1_sw1_na2_wd1153_b1_al0_rbl_fi', 'let_num_c5k_w6_cs1_sw1_na2_wd1153_b1_al2_rbl_m0_tc', 'let_num_c5k_w7_cs1_sw1_na2_wd1153_b1_al2_rbl_m0_ft', 'let_num_c5k_w9_cs1_sw1_na2_wd1153_b1_al1_rbl_fi_ft', 'lzh_c2w_w20_cs0_sw1_na2_wd1153_b1_al2_rbl_m0_rk', 'lzh_c2w_w30_cs1_sw0_na2_wd1153_b1_al1_rbl_m0_rk', 'lzh_c2w_w40_cs0_sw0_na2_wd1153_b1_al2_rbl_m0_do', 'lzh_c3w_w30_cs1_sw0_na2_wd1153_b0_al1_rbl_m1', 'lzh_c3w_w30_cs1_sw1_na2_wd1153_b0_al0_rbl_fi', 'lzh_c5w_w30_cs1_sw1_na2_wd1153_b1_al2_rbl_fi_ft', 'lzh_c5w_w40_cs1_sw0_na2_wd1153_b1_al1_rbl_fi_ft', 'num_c1w_w6_cs1_sw1_na2_wd1153_b1_al1_rbl_fi', 'num_c5k_w6_cs1_sw1_na2_wd1153_b1_al1_rbl_fi_tc', 'num_c5k_w7_cs1_sw1_na2_wd1153_b0_al1_rbl_m1_rk', 'num_c5k_w7_cs1_sw1_na2_wd1153_b0_al2_rbl_m1_do', 'or_lcn_c2w_w16_cs0_sw1_na2_b0_al2_rbl_m2', 'or_lcn_c2w_w26_cs0_sw0_na2_b0_al0_rbl_m1_do', 'or_lcn_c2w_w26_cs0_sw0_na2_b0_al1_rbl_m0_do', 'or_lcn_c2w_w26_cs0_sw0_na2_b0_al1_rbl_m1', 'or_lcn_c2w_w26_cs0_sw0_na2_b1_al0_rbl_fi', 'or_lcn_c2w_w26_cs0_sw0_na2_b1_al2_rbl_fi', 'or_lcn_c2w_w26_cs1_sw0_na2_b1_al0_rbl_m2', 'or_lzh_c2w_w16_cs0_sw1_na2_b0_al0_rbl_m2', 'or_lzh_c2w_w26_cs0_sw0_na2_b0_al0_rbl_m0_do', 'or_lzh_c2w_w26_cs0_sw0_na2_b0_al0_rbl_m1', 'or_lzh_c2w_w26_cs0_sw0_na2_b0_al1_rbl_m1_do', 'or_lzh_c2w_w26_cs0_sw0_na2_b1_al2_rbl_fi', 'or_lzh_c2w_w26_cs0_sw0_na2_b1_al2_rbl_fi_ft', 'or_lzh_c2w_w26_cs0_sw0_na2_b1_al2_rbl_fi_tc', 'or_lzh_c2w_w26_cs1_sw0_na2_b1_al1_rbl_m2']\n"
     ]
    }
   ],
   "source": [
    "# generate folder list\n",
    "# folders = [f for f in os.listdir('C:\\Application\\Develop\\CRNN_Chinese_Characters_Rec_data\\datasets\\\\')]\n",
    "folders = [f for f in os.listdir('C:/Develop/CRNN_Chinese_Characters_Rec_data/datasets/')]\n",
    "# folders 裡面只有 train 資料夾(不要 vaild test)跟其他實際資料的各個資料夾\n",
    "# 因為 train/labels.txt 檔案為附加寫入，所以要刪掉讓他重新產生新檔案\n",
    "folders.remove('train')\n",
    "\n",
    "# folders.remove('opposite_01')\n",
    "# folders = ['enum_02_20k','vrt_06_50k']\n",
    "\n",
    "print(len(folders),folders)"
   ]
  },
  {
   "cell_type": "code",
   "execution_count": 11,
   "metadata": {},
   "outputs": [
    {
     "name": "stdout",
     "output_type": "stream",
     "text": [
      "ThreadThread 1 ibodict_c2w_cs1_na2_wd1153_b0_al0_rbl_m0\n",
      "process ibodict_c2w_cs1_na2_wd1153_b0_al0_rbl_m0 folder labels txt\n",
      " 0 ibodict_c2w_cs0_na2_wd1153_b0_al1_rbl_m2_tc_ft\n",
      "process ibodict_c2w_cs0_na2_wd1153_b0_al1_rbl_m2_tc_ft folder labels txt\n",
      "Thread 2 ibodict_c2w_cs1_na2_wd1153_b0_al0_rbl_m0_rk\n",
      "process ibodict_c2w_cs1_na2_wd1153_b0_al0_rbl_m0_rk folder labels txt\n",
      "Thread 3 ibodict_c2w_cs2_na2_wd1153_b1_al2_rbl_m1\n",
      "process ibodict_c2w_cs2_na2_wd1153_b1_al2_rbl_m1 folder labels txt\n",
      "Thread 4 lcn_c2w_w20_cs0_sw1_na2_wd1153_b1_al2_rbl_m0_rk\n",
      "process lcn_c2w_w20_cs0_sw1_na2_wd1153_b1_al2_rbl_m0_rk folder labels txt\n",
      "Thread 5 lcn_c2w_w30_cs1_sw0_na2_wd1153_b1_al1_rbl_m0_rk\n",
      "process lcn_c2w_w30_cs1_sw0_na2_wd1153_b1_al1_rbl_m0_rk folder labels txt\n",
      "Thread 6 lcn_c2w_w40_cs0_sw0_na2_wd1153_b1_al2_rbl_m0_do\n",
      "process lcn_c2w_w40_cs0_sw0_na2_wd1153_b1_al2_rbl_m0_do folder labels txt\n",
      "Thread 7 lcn_c3w_w30_cs1_sw0_na2_wd1153_b0_al1_rbl_m1\n",
      "process lcn_c3w_w30_cs1_sw0_na2_wd1153_b0_al1_rbl_m1 folder labels txt\n",
      "Thread 8 lcn_c3w_w30_cs1_sw1_na2_wd1153_b0_al0_rbl_fi\n",
      "process lcn_c3w_w30_cs1_sw1_na2_wd1153_b0_al0_rbl_fi folder labels txt\n",
      "Thread 9 let_c1w_w7_cs1_sw1_na2_wd1153_b1_al2_rbl_fi\n",
      "process let_c1w_w7_cs1_sw1_na2_wd1153_b1_al2_rbl_fi folder labels txt\n",
      "Thread 10 let_c5k_w7_cs1_sw1_na2_wd1153_b0_al0_rbl_m1_do\n",
      "process let_c5k_w7_cs1_sw1_na2_wd1153_b0_al0_rbl_m1_do folder labels txt\n",
      "Thread 11 let_c5k_w7_cs1_sw1_na2_wd1153_b0_al1_rbl_m1_rk\n",
      "process let_c5k_w7_cs1_sw1_na2_wd1153_b0_al1_rbl_m1_rk folder labels txt\n",
      "Thread 12 let_c5k_w7_cs1_sw1_na2_wd1153_b1_al0_rbl_fi_tc\n",
      "process let_c5k_w7_cs1_sw1_na2_wd1153_b1_al0_rbl_fi_tc folder labels txt\n",
      "Thread 13 let_num_c1w_w6_cs1_sw1_na2_wd1153_b3_al2_rbl_m0_tc\n",
      "process let_num_c1w_w6_cs1_sw1_na2_wd1153_b3_al2_rbl_m0_tc folder labels txt\n",
      "Thread 14 let_num_c1w_w7_cs1_sw1_na2_wd1153_b3_al1_rbl_fi_tc\n",
      "process let_num_c1w_w7_cs1_sw1_na2_wd1153_b3_al1_rbl_fi_tc folder labels txt\n",
      "Thread 15 let_num_c2w_w7_cs1_sw1_na2_wd1153_b1_al0_rbl_fi\n",
      "process let_num_c2w_w7_cs1_sw1_na2_wd1153_b1_al0_rbl_fi folder labels txt\n",
      "Thread 16 let_num_c5k_w6_cs1_sw1_na2_wd1153_b1_al2_rbl_m0_tc\n",
      "process let_num_c5k_w6_cs1_sw1_na2_wd1153_b1_al2_rbl_m0_tc folder labels txt\n",
      "Thread 17 let_num_c5k_w7_cs1_sw1_na2_wd1153_b1_al2_rbl_m0_ft\n",
      "process let_num_c5k_w7_cs1_sw1_na2_wd1153_b1_al2_rbl_m0_ft folder labels txt\n",
      "Thread 18 let_num_c5k_w9_cs1_sw1_na2_wd1153_b1_al1_rbl_fi_ft\n",
      "process let_num_c5k_w9_cs1_sw1_na2_wd1153_b1_al1_rbl_fi_ft folder labels txt\n",
      "Thread 19 lzh_c2w_w20_cs0_sw1_na2_wd1153_b1_al2_rbl_m0_rk\n",
      "process lzh_c2w_w20_cs0_sw1_na2_wd1153_b1_al2_rbl_m0_rk folder labels txt\n",
      "Thread 20 lzh_c2w_w30_cs1_sw0_na2_wd1153_b1_al1_rbl_m0_rk\n",
      "process lzh_c2w_w30_cs1_sw0_na2_wd1153_b1_al1_rbl_m0_rk folder labels txt\n",
      "Thread 21 lzh_c2w_w40_cs0_sw0_na2_wd1153_b1_al2_rbl_m0_do\n",
      "process lzh_c2w_w40_cs0_sw0_na2_wd1153_b1_al2_rbl_m0_do folder labels txt\n",
      "Thread 22 lzh_c3w_w30_cs1_sw0_na2_wd1153_b0_al1_rbl_m1\n",
      "process lzh_c3w_w30_cs1_sw0_na2_wd1153_b0_al1_rbl_m1 folder labels txt\n",
      "Thread 23 lzh_c3w_w30_cs1_sw1_na2_wd1153_b0_al0_rbl_fi\n",
      "process lzh_c3w_w30_cs1_sw1_na2_wd1153_b0_al0_rbl_fi folder labels txt\n",
      "Thread 24 lzh_c5w_w30_cs1_sw1_na2_wd1153_b1_al2_rbl_fi_ft\n",
      "process lzh_c5w_w30_cs1_sw1_na2_wd1153_b1_al2_rbl_fi_ft folder labels txt\n",
      "Thread 25 lzh_c5w_w40_cs1_sw0_na2_wd1153_b1_al1_rbl_fi_ft\n",
      "process lzh_c5w_w40_cs1_sw0_na2_wd1153_b1_al1_rbl_fi_ft folder labels txt\n",
      "Thread 26 num_c1w_w6_cs1_sw1_na2_wd1153_b1_al1_rbl_fi\n",
      "process num_c1w_w6_cs1_sw1_na2_wd1153_b1_al1_rbl_fi folder labels txt\n",
      "Thread 27 num_c5k_w6_cs1_sw1_na2_wd1153_b1_al1_rbl_fi_tc\n",
      "process num_c5k_w6_cs1_sw1_na2_wd1153_b1_al1_rbl_fi_tc folder labels txt\n",
      "Thread 28 num_c5k_w7_cs1_sw1_na2_wd1153_b0_al1_rbl_m1_rk\n",
      "process num_c5k_w7_cs1_sw1_na2_wd1153_b0_al1_rbl_m1_rk folder labels txt\n",
      "Thread 29 num_c5k_w7_cs1_sw1_na2_wd1153_b0_al2_rbl_m1_do\n",
      "process num_c5k_w7_cs1_sw1_na2_wd1153_b0_al2_rbl_m1_do folder labels txt\n",
      "Thread 30 or_lcn_c2w_w16_cs0_sw1_na2_b0_al2_rbl_m2\n",
      "process or_lcn_c2w_w16_cs0_sw1_na2_b0_al2_rbl_m2 folder labels txt\n",
      "Thread 31 or_lcn_c2w_w26_cs0_sw0_na2_b0_al0_rbl_m1_do\n",
      "process or_lcn_c2w_w26_cs0_sw0_na2_b0_al0_rbl_m1_do folder labels txt\n",
      "Thread 32 or_lcn_c2w_w26_cs0_sw0_na2_b0_al1_rbl_m0_do\n",
      "process or_lcn_c2w_w26_cs0_sw0_na2_b0_al1_rbl_m0_do folder labels txt\n",
      "Thread 33 or_lcn_c2w_w26_cs0_sw0_na2_b0_al1_rbl_m1\n",
      "process or_lcn_c2w_w26_cs0_sw0_na2_b0_al1_rbl_m1 folder labels txt\n",
      "Thread 34 or_lcn_c2w_w26_cs0_sw0_na2_b1_al0_rbl_fi\n",
      "process or_lcn_c2w_w26_cs0_sw0_na2_b1_al0_rbl_fi folder labels txt\n",
      "Thread 35 or_lcn_c2w_w26_cs0_sw0_na2_b1_al2_rbl_fi\n",
      "process or_lcn_c2w_w26_cs0_sw0_na2_b1_al2_rbl_fi folder labels txt\n",
      "Thread 36 or_lcn_c2w_w26_cs1_sw0_na2_b1_al0_rbl_m2\n",
      "process or_lcn_c2w_w26_cs1_sw0_na2_b1_al0_rbl_m2 folder labels txt\n",
      "Thread 37 or_lzh_c2w_w16_cs0_sw1_na2_b0_al0_rbl_m2\n",
      "process or_lzh_c2w_w16_cs0_sw1_na2_b0_al0_rbl_m2 folder labels txt\n",
      "Thread 38 or_lzh_c2w_w26_cs0_sw0_na2_b0_al0_rbl_m0_do\n",
      "process or_lzh_c2w_w26_cs0_sw0_na2_b0_al0_rbl_m0_do folder labels txt\n",
      "Thread 39 or_lzh_c2w_w26_cs0_sw0_na2_b0_al0_rbl_m1\n",
      "process or_lzh_c2w_w26_cs0_sw0_na2_b0_al0_rbl_m1 folder labels txt\n",
      "Thread 40 or_lzh_c2w_w26_cs0_sw0_na2_b0_al1_rbl_m1_do\n",
      "process or_lzh_c2w_w26_cs0_sw0_na2_b0_al1_rbl_m1_do folder labels txt\n",
      "Thread 41 or_lzh_c2w_w26_cs0_sw0_na2_b1_al2_rbl_fi\n",
      "process or_lzh_c2w_w26_cs0_sw0_na2_b1_al2_rbl_fi folder labels txt\n",
      "Thread 42 or_lzh_c2w_w26_cs0_sw0_na2_b1_al2_rbl_fi_ft\n",
      "process or_lzh_c2w_w26_cs0_sw0_na2_b1_al2_rbl_fi_ft folder labels txt\n",
      "Thread 43 or_lzh_c2w_w26_cs0_sw0_na2_b1_al2_rbl_fi_tc\n",
      "process or_lzh_c2w_w26_cs0_sw0_na2_b1_al2_rbl_fi_tc folder labels txt\n",
      "Thread 44 or_lzh_c2w_w26_cs1_sw0_na2_b1_al1_rbl_m2\n",
      "process or_lzh_c2w_w26_cs1_sw0_na2_b1_al1_rbl_m2 folder labels txt\n",
      "process let_c1w_w7_cs1_sw1_na2_wd1153_b1_al2_rbl_fi folder labels txt done.\n",
      "process let_c5k_w7_cs1_sw1_na2_wd1153_b1_al0_rbl_fi_tc folder labels txt done.\n",
      "process let_num_c5k_w6_cs1_sw1_na2_wd1153_b1_al2_rbl_m0_tc folder labels txt done.\n",
      "process let_num_c5k_w7_cs1_sw1_na2_wd1153_b1_al2_rbl_m0_ft folder labels txt done.\n",
      "process let_num_c5k_w9_cs1_sw1_na2_wd1153_b1_al1_rbl_fi_ft folder labels txt done.\n",
      "process num_c5k_w6_cs1_sw1_na2_wd1153_b1_al1_rbl_fi_tc folder labels txt done.\n",
      "process num_c5k_w7_cs1_sw1_na2_wd1153_b0_al1_rbl_m1_rk folder labels txt done.\n",
      "process let_c5k_w7_cs1_sw1_na2_wd1153_b0_al0_rbl_m1_do folder labels txt done.\n",
      "process let_c5k_w7_cs1_sw1_na2_wd1153_b0_al1_rbl_m1_rk folder labels txt done.\n",
      "process num_c5k_w7_cs1_sw1_na2_wd1153_b0_al2_rbl_m1_do folder labels txt done.\n",
      "process let_num_c1w_w7_cs1_sw1_na2_wd1153_b3_al1_rbl_fi_tc folder labels txt done.\n",
      "process let_num_c1w_w6_cs1_sw1_na2_wd1153_b3_al2_rbl_m0_tc folder labels txt done.\n",
      "process num_c1w_w6_cs1_sw1_na2_wd1153_b1_al1_rbl_fi folder labels txt done.\n",
      "process lzh_c2w_w20_cs0_sw1_na2_wd1153_b1_al2_rbl_m0_rk folder labels txt done.\n",
      "process lcn_c2w_w20_cs0_sw1_na2_wd1153_b1_al2_rbl_m0_rk folder labels txt done.\n",
      "process let_num_c2w_w7_cs1_sw1_na2_wd1153_b1_al0_rbl_fi folder labels txt done.\n",
      "process or_lzh_c2w_w26_cs0_sw0_na2_b1_al2_rbl_fi_tc folder labels txt done.\n",
      "process or_lzh_c2w_w26_cs0_sw0_na2_b1_al2_rbl_fi_ft folder labels txt done.\n",
      "process or_lcn_c2w_w26_cs0_sw0_na2_b1_al0_rbl_fi folder labels txt done.\n",
      "process or_lcn_c2w_w26_cs0_sw0_na2_b1_al2_rbl_fi folder labels txt done.\n",
      "process or_lzh_c2w_w26_cs0_sw0_na2_b1_al2_rbl_fi folder labels txt done.\n",
      "process or_lcn_c2w_w16_cs0_sw1_na2_b0_al2_rbl_m2 folder labels txt done.\n",
      "process or_lcn_c2w_w26_cs1_sw0_na2_b1_al0_rbl_m2 folder labels txt done.\n",
      "process or_lzh_c2w_w26_cs1_sw0_na2_b1_al1_rbl_m2 folder labels txt done.\n",
      "process or_lzh_c2w_w16_cs0_sw1_na2_b0_al0_rbl_m2 folder labels txt done.\n",
      "process ibodict_c2w_cs2_na2_wd1153_b1_al2_rbl_m1 folder labels txt done.\n",
      "process lzh_c2w_w40_cs0_sw0_na2_wd1153_b1_al2_rbl_m0_do folder labels txt done.\n",
      "process or_lcn_c2w_w26_cs0_sw0_na2_b0_al1_rbl_m1 folder labels txt done.\n",
      "process or_lcn_c2w_w26_cs0_sw0_na2_b0_al0_rbl_m1_do folder labels txt done.\n",
      "process or_lzh_c2w_w26_cs0_sw0_na2_b0_al0_rbl_m1 folder labels txt done.\n",
      "process lcn_c2w_w40_cs0_sw0_na2_wd1153_b1_al2_rbl_m0_do folder labels txt done.\n",
      "process ibodict_c2w_cs1_na2_wd1153_b0_al0_rbl_m0_rk folder labels txt done.\n",
      "process lzh_c2w_w30_cs1_sw0_na2_wd1153_b1_al1_rbl_m0_rk folder labels txt done.\n",
      "process or_lzh_c2w_w26_cs0_sw0_na2_b0_al1_rbl_m1_do folder labels txt done.\n",
      "process lcn_c2w_w30_cs1_sw0_na2_wd1153_b1_al1_rbl_m0_rk folder labels txt done.\n",
      "process or_lcn_c2w_w26_cs0_sw0_na2_b0_al1_rbl_m0_do folder labels txt done.\n",
      "process ibodict_c2w_cs1_na2_wd1153_b0_al0_rbl_m0 folder labels txt done.\n",
      "process or_lzh_c2w_w26_cs0_sw0_na2_b0_al0_rbl_m0_do folder labels txt done.\n",
      "process ibodict_c2w_cs0_na2_wd1153_b0_al1_rbl_m2_tc_ft folder labels txt done.\n",
      "process lzh_c3w_w30_cs1_sw1_na2_wd1153_b0_al0_rbl_fi folder labels txt done.\n",
      "process lzh_c3w_w30_cs1_sw0_na2_wd1153_b0_al1_rbl_m1 folder labels txt done.\n",
      "process lcn_c3w_w30_cs1_sw1_na2_wd1153_b0_al0_rbl_fi folder labels txt done.\n",
      "process lcn_c3w_w30_cs1_sw0_na2_wd1153_b0_al1_rbl_m1 folder labels txt done.\n",
      "process lzh_c5w_w30_cs1_sw1_na2_wd1153_b1_al2_rbl_fi_ft folder labels txt done.\n",
      "process lzh_c5w_w40_cs1_sw0_na2_wd1153_b1_al1_rbl_fi_ft folder labels txt done.\n",
      "all process Done.\n"
     ]
    }
   ],
   "source": [
    "import time\n",
    "import threading\n",
    "import queue\n",
    "\n",
    "def proc_labels_txt(folder):\n",
    "    print('process {} folder labels txt'.format(folder))\n",
    "    # 根據檔案清單，合併到 train/labels.txt中，但是圖片原處處理不搬移，因為檔案太多讀不動\n",
    "    nlines = []\n",
    "    with open('C:\\Develop\\CRNN_Chinese_Characters_Rec_data\\datasets\\\\'+folder+'\\\\labels.txt', 'r', encoding='utf-8') as f:\n",
    "        lines = f.readlines()\n",
    "#         for line in tqdm.tqdm(lines):\n",
    "        for line in (lines):\n",
    "            image_path = line.split(' ')[0]\n",
    "            try:\n",
    "                ### 這裡做旋轉\n",
    "                img = cv2.imread('C:\\Develop\\CRNN_Chinese_Characters_Rec_data\\datasets\\\\'+folder+'\\\\'+image_path)\n",
    "                h,w,c = img.shape\n",
    "                if h > w: # rotate 直的轉橫的逆時針90度\n",
    "                    img = cv2.rotate(img, cv2.ROTATE_90_COUNTERCLOCKWISE)\n",
    "                    cv2.imwrite('C:\\Develop\\CRNN_Chinese_Characters_Rec_data\\datasets\\\\'+folder+'\\\\'+image_path, img)\n",
    "                location = len(image_path)\n",
    "                nlines.append(folder + '/' + image_path + line[location:])\n",
    "            except:\n",
    "#                 print(folder + '/' + image_path + line[location:])\n",
    "                pass\n",
    "    # 因為同時一筆一筆寫入 train/labels.txt 會出錯，所以拆開，資料夾分開最後再依序寫入\n",
    "    with open('C:\\Develop\\CRNN_Chinese_Characters_Rec_data\\datasets\\\\'+folder+'\\\\nlabels.txt', 'w', encoding='utf-8') as f:\n",
    "        for item in nlines:\n",
    "            f.write(\"{}\".format(item))      \n",
    "    print('process {} folder labels txt done.'.format(folder))\n",
    "\n",
    "\n",
    "import threading\n",
    "import time\n",
    "\n",
    "# 子執行緒類別\n",
    "class MyThread(threading.Thread):\n",
    "  def __init__(self, num, folder):\n",
    "    threading.Thread.__init__(self)\n",
    "    self.num = num\n",
    "    self.folder = folder\n",
    "\n",
    "  def run(self):\n",
    "    print(\"Thread\", self.num, self.folder)\n",
    "    proc_labels_txt(self.folder)\n",
    "    time.sleep(0.1)\n",
    "\n",
    "# 建立 i 個子執行緒\n",
    "threads = []\n",
    "for i, folder in enumerate(folders):\n",
    "  threads.append(MyThread(i, folder))\n",
    "  threads[i].start()\n",
    "\n",
    "# 主執行緒繼續執行自己的工作\n",
    "# ...\n",
    "\n",
    "# 等待所有子執行緒結束\n",
    "for i in range(len(folders)):\n",
    "  threads[i].join()\n",
    "\n",
    "# write a empyt txt file\n",
    "f = open('C:\\Develop\\CRNN_Chinese_Characters_Rec_data\\datasets\\\\train\\\\labels.txt', 'w', encoding='utf-8')\n",
    "f.close()\n",
    "\n",
    "for folder in folders:\n",
    "    f1 = open('C:\\Develop\\CRNN_Chinese_Characters_Rec_data\\datasets\\\\train\\\\labels.txt', 'a+', encoding='utf-8')\n",
    "    f2 = open('C:\\Develop\\CRNN_Chinese_Characters_Rec_data\\datasets\\\\'+folder+'\\\\nlabels.txt', 'r', encoding='utf-8')\n",
    "    f1.write(f2.read()) \n",
    "    f1.close()\n",
    "    f2.close()\n",
    "\n",
    "print(\"all process Done.\")"
   ]
  },
  {
   "cell_type": "code",
   "execution_count": 5,
   "metadata": {
    "scrolled": true
   },
   "outputs": [],
   "source": [
    "### 這跟上面那格依樣功能(重複，別做!!!)\n",
    "\n",
    "# for folder in folders:\n",
    "#     print(folder)\n",
    "#     # 根據檔案清單，合併到 train/labels.txt中，但是圖片原處處理不搬移，因為檔案太多讀不動\n",
    "#     with open('C:\\Develop\\CRNN_Chinese_Characters_Rec_data\\datasets\\\\'+folder+'\\\\labels.txt', 'r', encoding='utf-8') as f:\n",
    "#         lines = f.readlines()\n",
    "#         for line in tqdm.tqdm(lines):\n",
    "#             image_path = line.split(' ')[0]\n",
    "#             try:\n",
    "#                 img = cv2.imread('C:\\Develop\\CRNN_Chinese_Characters_Rec_data\\datasets\\\\'+folder+'\\\\'+image_path)\n",
    "#                 h,w,c = img.shape\n",
    "#                 # print(img.shape)\n",
    "#                 if h > w: # rotate 直的轉橫的逆時針90度\n",
    "#                     img = cv2.rotate(img, cv2.ROTATE_90_COUNTERCLOCKWISE)\n",
    "#                     # h,w,c = img.shape\n",
    "#                     # print(img.shape)\n",
    "#                     # cv2.imshow('img', img)\n",
    "#                     # pause = cv2.waitKey(0)\n",
    "#                     cv2.imwrite('C:\\Develop\\CRNN_Chinese_Characters_Rec_data\\datasets\\\\'+folder+'\\\\'+image_path, img)\n",
    "#                     # print('rotate')\n",
    "#                 # os.rename('C:\\Application\\Develop\\CRNN_Chinese_Characters_Rec_data\\datasets\\\\'+folder+'\\\\'+image_path, 'C:\\Application\\Develop\\CRNN_Chinese_Characters_Rec_data\\datasets\\\\train\\\\'+image_path)\n",
    "#                 # copy to target folder 這樣可以重複執行(不過labels.txt會重複要先刪除)\n",
    "#     #             shutil.copyfile('C:\\Application\\Develop\\CRNN_Chinese_Characters_Rec_data\\datasets\\\\'+folder+'\\\\'+image_path, 'C:\\Application\\Develop\\CRNN_Chinese_Characters_Rec_data\\datasets\\\\train\\\\'+image_path)\n",
    "#                 # 計算檔名長度及位置，修改路徑(原位置不搬移)後，產生新的label line\n",
    "#                 location = len(image_path)\n",
    "#                 line = folder + '/' + image_path + line[location:]\n",
    "#                 # 將標籤寫道檔案中 (train\\label.txt) 模式是 append\n",
    "#                 with open('C:\\Develop\\CRNN_Chinese_Characters_Rec_data\\datasets\\\\train\\\\labels.txt', 'a', encoding='utf-8') as f:\n",
    "#                     f.write(line)\n",
    "#             except:\n",
    "#                 pass\n",
    "#     time.sleep(0.1) # 暫停0.1秒避免 labels.txt 檔案被占用\n"
   ]
  },
  {
   "cell_type": "code",
   "execution_count": 6,
   "metadata": {},
   "outputs": [],
   "source": [
    "# f.close()\n",
    "# del lines\n",
    "# import gc\n",
    "# gc.collect(generation=2)"
   ]
  },
  {
   "cell_type": "code",
   "execution_count": 12,
   "metadata": {},
   "outputs": [
    {
     "name": "stdout",
     "output_type": "stream",
     "text": [
      "811944\n"
     ]
    },
    {
     "name": "stderr",
     "output_type": "stream",
     "text": [
      "100%|██████████| 811944/811944 [00:49<00:00, 16481.95it/s]"
     ]
    },
    {
     "name": "stdout",
     "output_type": "stream",
     "text": [
      "图像最大尺寸大小： 1153 32\n",
      "图像最大尺寸名稱： C:\\Develop\\CRNN_Chinese_Characters_Rec_data\\datasets\\ibodict_c2w_cs0_na2_wd1153_b0_al1_rbl_m2_tc_ft\\0.jpg\n",
      "图像最大尺寸名稱： C:\\Develop\\CRNN_Chinese_Characters_Rec_data\\datasets\\ibodict_c2w_cs0_na2_wd1153_b0_al1_rbl_m2_tc_ft\\0.jpg\n"
     ]
    },
    {
     "name": "stderr",
     "output_type": "stream",
     "text": [
      "\n"
     ]
    }
   ],
   "source": [
    "# 因為產生直的圖片尺寸不一，所以要padding到一樣的尺寸\n",
    "# 710W張圖片，執行時間約110分鐘\n",
    "# 图像最大尺寸大小： 1157 32  w_max, h_max\n",
    "# 图像最大尺寸名稱： C:\\Develop\\CRNN_Chinese_Characters_Rec_data\\datasets\\w14_cs0sw1_fi_or\\0.jpg  w_max_img_name\n",
    "# 图像最大尺寸名稱： C:\\Develop\\CRNN_Chinese_Characters_Rec_data\\datasets\\bo_dictc30wcs1sw2b1\\0.jpg  h_max_img_name\n",
    "\n",
    "import glob\n",
    "images = glob.glob('C:\\Develop\\CRNN_Chinese_Characters_Rec_data\\datasets\\\\*\\\\*.jpg', recursive = True)\n",
    "print(len(images))\n",
    "w_max, h_max = 0, 0\n",
    "w_max_img_name = []  # 用來存放  w_max 圖片名稱\n",
    "h_max_img_name = []  # 用來存放  h_max 圖片名稱\n",
    "for image in tqdm.tqdm(images):\n",
    "    # 不用打開圖片，直接獲取圖片尺寸大小（width, height）\n",
    "    with Image.open(image) as img:\n",
    "    # 获取图像尺寸大小（width, height）\n",
    "        w, h = img.size\n",
    "        if w_max < w:\n",
    "            w_max = w\n",
    "            w_max_img_name = image\n",
    "        if h_max < h:\n",
    "            h_max = h\n",
    "            h_max_img_name = image\n",
    "    # 打印尺寸大小\n",
    "print(\"图像最大尺寸大小：\", w_max, h_max)\n",
    "print(\"图像最大尺寸名稱：\", w_max_img_name)\n",
    "print(\"图像最大尺寸名稱：\", h_max_img_name)"
   ]
  },
  {
   "cell_type": "code",
   "execution_count": 7,
   "metadata": {},
   "outputs": [
    {
     "name": "stderr",
     "output_type": "stream",
     "text": [
      "C:\\Users\\richardchiu\\AppData\\Local\\Temp\\ipykernel_5132\\2127678199.py:10: DeprecationWarning: LINEAR is deprecated and will be removed in Pillow 10 (2023-07-01). Use BILINEAR or Resampling.BILINEAR instead.\n",
      "  img = ImageOps.pad(img, (w_max, h), method=Image.LINEAR, color=(255,255,255), centering=(0, 0))\n"
     ]
    },
    {
     "name": "stdout",
     "output_type": "stream",
     "text": [
      "all process Done.\n"
     ]
    }
   ],
   "source": [
    "import time\n",
    "import threading\n",
    "import queue\n",
    "\n",
    "w_max = 1153\n",
    "def proc_padding_image(image, w_max):\n",
    "    with Image.open(image) as img:\n",
    "        w, h = img.size\n",
    "        if w < w_max:\n",
    "            img = ImageOps.pad(img, (w_max, h), method=Image.LINEAR, color=(255,255,255), centering=(0, 0))\n",
    "            img.save(image)\n",
    "            # print('padding')    \n",
    "\n",
    "import threading\n",
    "import time\n",
    "\n",
    "# 子執行緒類別\n",
    "class MyThread(threading.Thread):\n",
    "  def __init__(self, num, image, w_max):\n",
    "    threading.Thread.__init__(self)\n",
    "    self.num = num\n",
    "    self.image = image\n",
    "    self.w_max = w_max\n",
    "\n",
    "  def run(self):\n",
    "    # print(\"Thread\", self.num, self.image, self.w_max)\n",
    "    proc_padding_image(self.image, self.w_max)\n",
    "    # time.sleep(0.0001)\n",
    "\n",
    "# 建立 i 個子執行緒\n",
    "threads = []\n",
    "for i, image in enumerate(images):\n",
    "  threads.append(MyThread(i, image, w_max))\n",
    "  threads[i].start()\n",
    "\n",
    "# 主執行緒繼續執行自己的工作\n",
    "# ...\n",
    "\n",
    "# 等待所有子執行緒結束\n",
    "for i in range(len(images)):\n",
    "  threads[i].join()\n",
    "\n",
    "print(\"all process Done.\")   # 43m58s"
   ]
  },
  {
   "attachments": {},
   "cell_type": "markdown",
   "metadata": {},
   "source": [
    "DeprecationWarning: LINEAR is deprecated and will be removed in Pillow 10 (2023-07-01). Use BILINEAR or Resampling.BILINEAR instead."
   ]
  },
  {
   "cell_type": "code",
   "execution_count": 9,
   "metadata": {
    "scrolled": true
   },
   "outputs": [],
   "source": [
    "# # 這裡很慢 \n",
    "# # 前面步驟已做旋轉，這裡才不會出問題\n",
    "# # 因為產生直的圖片尺寸不一，所以要padding到一樣的尺寸\n",
    "\n",
    "# # w_max, h_max = 888, 32\n",
    "# w_max, h_max = 1157, 32\n",
    "\n",
    "# # padding\n",
    "# for image in tqdm.tqdm(images):\n",
    "#     with Image.open(image) as img:\n",
    "#         w, h = img.size\n",
    "#         if w < w_max:\n",
    "#             img = ImageOps.pad(img, (w_max, h), method=Image.LINEAR, color=(255,255,255), centering=(0, 0))\n",
    "#             img.save(image)\n",
    "#             # print('padding')\n"
   ]
  },
  {
   "cell_type": "code",
   "execution_count": null,
   "metadata": {},
   "outputs": [],
   "source": []
  },
  {
   "cell_type": "code",
   "execution_count": 13,
   "metadata": {},
   "outputs": [
    {
     "name": "stdout",
     "output_type": "stream",
     "text": [
      "811944\n"
     ]
    }
   ],
   "source": [
    "# 檢查一下圖片數量\n",
    "with open('C:\\Develop\\CRNN_Chinese_Characters_Rec_data\\datasets\\\\train\\\\labels.txt', 'r', encoding='utf-8') as f:\n",
    "    lines = f.readlines()\n",
    "print(len(lines))   # 7364498  \n"
   ]
  },
  {
   "cell_type": "code",
   "execution_count": 14,
   "metadata": {},
   "outputs": [
    {
     "name": "stdout",
     "output_type": "stream",
     "text": [
      "811944 730749 81195\n"
     ]
    }
   ],
   "source": [
    "# 隨機打亂標籤檔案\n",
    "import random\n",
    "random.shuffle(lines)\n",
    "random.shuffle(lines)\n",
    "random.shuffle(lines)\n",
    "random.shuffle(lines)\n",
    "random.shuffle(lines)\n",
    "random.shuffle(lines)\n",
    "total_num = len(lines)\n",
    "rate = 0.9\n",
    "print(len(lines), int(total_num * rate), total_num-int(total_num * rate))\n",
    "\n",
    "with open('C:\\Develop\\CRNN_Chinese_Characters_Rec_data\\datasets\\\\train\\\\train.txt', 'w', encoding='utf-8') as f:\n",
    "    for line in lines[:int(total_num * rate)]:\n",
    "    # for line in lines[:7000000]:\n",
    "        f.write(line)\n",
    "\n",
    "with open('C:\\Develop\\CRNN_Chinese_Characters_Rec_data\\datasets\\\\train\\\\test.txt', 'w', encoding='utf-8') as f:\n",
    "    for line in lines[int(total_num * rate):]:\n",
    "    # for line in lines[7000000:-10]:    # 最後的幾筆不要，避免空白之類的怪問題\n",
    "        f.write(line)"
   ]
  },
  {
   "cell_type": "code",
   "execution_count": 15,
   "metadata": {},
   "outputs": [
    {
     "name": "stdout",
     "output_type": "stream",
     "text": [
      "730749\n",
      "81195\n"
     ]
    }
   ],
   "source": [
    "'''\n",
    "產生中文训练集标签 只有 train & valid (test) 兩部分，沒有 test!\n",
    "'''\n",
    "\n",
    "# chinese characters dictionary for 3.6 million data set.\n",
    "with open('C:\\Develop\\CRNN_Chinese_Characters_Rec\\lib\\dataset\\\\txt\\char_std_zhcn_8000.txt', 'r', encoding='utf-8') as file:\n",
    "    char_dict = {char.replace('\\n','') : num for num, char in enumerate(file.readlines())}\n",
    "\n",
    "# # processing output\n",
    "with open('C:\\Develop\\CRNN_Chinese_Characters_Rec_data\\datasets\\\\train\\\\train.txt', 'r', encoding='utf-8') as file:\n",
    "    new_output = []\n",
    "    for segment_list in file.readlines():\n",
    "        segment_list = segment_list.replace('\\n','')\n",
    "        img_name = segment_list.split(' ')[0]\n",
    "        img_name_len = len(img_name)\n",
    "        # print(segment_list)\n",
    "        segment_list = segment_list[img_name_len+1:]\n",
    "        # print(segment_list)\n",
    "        new_segment_list = ''\n",
    "        for w in segment_list:\n",
    "            new_segment_list += str(char_dict[w]) + ' '\n",
    "        # print(new_segment_list)\n",
    "        new_output.append(img_name + ' ' + new_segment_list[:-1]) # 去掉最後一個空白\n",
    "    print(len(new_output))\n",
    "\n",
    "# final output\n",
    "with open('C:\\Develop\\CRNN_Chinese_Characters_Rec_data\\datasets\\\\train\\\\train_code.txt', 'w', encoding='utf-8') as file:\n",
    "    [file.write(val+'\\n') for val in new_output]\n",
    "\n",
    "# valid part 5%\n",
    "# # processing output\n",
    "with open('C:\\Develop\\CRNN_Chinese_Characters_Rec_data\\datasets\\\\train\\\\test.txt', 'r', encoding='utf-8') as file:\n",
    "    new_output = []\n",
    "    for segment_list in file.readlines():\n",
    "        segment_list = segment_list.replace('\\n','')\n",
    "        img_name = segment_list.split(' ')[0]\n",
    "        img_name_len = len(img_name)\n",
    "        # print(segment_list)\n",
    "        segment_list = segment_list[img_name_len+1:]\n",
    "        # print(segment_list)\n",
    "        new_segment_list = ''\n",
    "        for w in segment_list:\n",
    "            new_segment_list += str(char_dict[w]) + ' ' # 每個字構面加一個空白符\n",
    "        # print(new_segment_list)\n",
    "        new_output.append(img_name + ' ' + new_segment_list[:-1]) # 去掉最後一個空白\n",
    "    print(len(new_output))\n",
    "\n",
    "# final output\n",
    "with open('C:\\Develop\\CRNN_Chinese_Characters_Rec_data\\datasets\\\\train\\\\test_code.txt', 'w', encoding='utf-8') as file:\n",
    "    [file.write(val+'\\n') for val in new_output]\n",
    "\n",
    "    \n"
   ]
  },
  {
   "cell_type": "code",
   "execution_count": 9,
   "metadata": {},
   "outputs": [
    {
     "data": {
      "text/plain": [
       "True"
      ]
     },
     "execution_count": 9,
     "metadata": {},
     "output_type": "execute_result"
    }
   ],
   "source": [
    "char_dict[' '] == 1"
   ]
  },
  {
   "cell_type": "code",
   "execution_count": 10,
   "metadata": {},
   "outputs": [
    {
     "data": {
      "text/plain": [
       "1396"
      ]
     },
     "execution_count": 10,
     "metadata": {},
     "output_type": "execute_result"
    }
   ],
   "source": [
    "char_dict['妥']"
   ]
  },
  {
   "cell_type": "code",
   "execution_count": 16,
   "metadata": {},
   "outputs": [
    {
     "data": {
      "text/plain": [
       "'C:\\\\develop\\\\CRNN_Chinese_Characters_Rec'"
      ]
     },
     "execution_count": 16,
     "metadata": {},
     "output_type": "execute_result"
    }
   ],
   "source": [
    "import os\n",
    "import time\n",
    "\n",
    "os.getcwd()\n",
    "os.chdir('C:/develop/CRNN_Chinese_Characters_Rec')\n",
    "os.getcwd()\n",
    "\n"
   ]
  },
  {
   "cell_type": "code",
   "execution_count": 16,
   "metadata": {},
   "outputs": [],
   "source": [
    "os.system(\"python train.py\")"
   ]
  },
  {
   "cell_type": "code",
   "execution_count": null,
   "metadata": {},
   "outputs": [],
   "source": []
  },
  {
   "cell_type": "code",
   "execution_count": null,
   "metadata": {},
   "outputs": [],
   "source": [
    "# # 特別處理   這不需要了 是誤會一場 圖片讀取速度很快不用特別放一起\n",
    "# import os, shutil \n",
    "# try:\n",
    "#     os.mkdir('C:/Develop/CRNN_Chinese_Characters_Rec_data/datasets/valid')\n",
    "# except:\n",
    "#     pass\n",
    "# # # processing output\n",
    "# with open('C:\\Develop\\CRNN_Chinese_Characters_Rec_data\\datasets\\\\train\\\\test_code.txt', 'r', encoding='utf-8') as file:\n",
    "#     new_output = []\n",
    "#     for segment_list in file.readlines():\n",
    "#         segment_list = segment_list.replace('\\n','')\n",
    "#         img_name = segment_list.split(' ')[0]\n",
    "#         jpg_name = img_name.split('/')[1]\n",
    "#         shutil.copyfile('C:/Develop/CRNN_Chinese_Characters_Rec_data/datasets/'+img_name, 'C:\\Develop\\CRNN_Chinese_Characters_Rec_data\\datasets\\\\valid\\\\'+jpg_name)\n",
    "#         img_name_len = len(img_name)\n",
    "#         segment_list = segment_list[img_name_len+1:]\n",
    "#         new_segment = 'valid/'+jpg_name+' '+segment_list  # a str\n",
    "#         new_output.append(new_segment) # 去掉最後一個空白\n",
    "#     print(len(new_output))\n",
    "\n",
    "# # final output\n",
    "# with open('C:\\Develop\\CRNN_Chinese_Characters_Rec_data\\datasets\\\\train\\\\test_code_valid.txt', 'w', encoding='utf-8') as file:\n",
    "#     [file.write(val+'\\n') for val in new_output]\n"
   ]
  },
  {
   "cell_type": "code",
   "execution_count": null,
   "metadata": {},
   "outputs": [],
   "source": []
  },
  {
   "cell_type": "code",
   "execution_count": null,
   "metadata": {},
   "outputs": [
    {
     "name": "stdout",
     "output_type": "stream",
     "text": [
      "-0.49179718794591293\n"
     ]
    }
   ],
   "source": [
    "import math\n",
    "\n",
    "p1 = (215, 179)\n",
    "p2 = (448, 177)\n",
    "\n",
    "angle = math.degrees(math.atan2(p2[1] - p1[1], p2[0] - p1[0]))\n",
    "\n",
    "print(angle)"
   ]
  }
 ],
 "metadata": {
  "kernelspec": {
   "display_name": "Python 3 (ipykernel)",
   "language": "python",
   "name": "python3"
  },
  "language_info": {
   "codemirror_mode": {
    "name": "ipython",
    "version": 3
   },
   "file_extension": ".py",
   "mimetype": "text/x-python",
   "name": "python",
   "nbconvert_exporter": "python",
   "pygments_lexer": "ipython3",
   "version": "3.10.14"
  }
 },
 "nbformat": 4,
 "nbformat_minor": 2
}
