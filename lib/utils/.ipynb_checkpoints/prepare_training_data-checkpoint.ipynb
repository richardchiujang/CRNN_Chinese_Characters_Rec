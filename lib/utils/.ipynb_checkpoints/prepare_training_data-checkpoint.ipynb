{
 "cells": [
  {
   "cell_type": "code",
   "execution_count": 1,
   "metadata": {},
   "outputs": [],
   "source": [
    "# 這是準備訓練資料的程式碼，主要是將資料集的圖片檔案，以及對應的標籤檔案，移在一起，並且將標籤檔案轉換成數字的索引，以便後續的訓練使用\n",
    "# source C:\\Application\\Develop\\CRNN_Chinese_Characters_Rec_data\\datasets\n",
    "# target C:\\Application\\Develop\\CRNN_Chinese_Characters_Rec_data\\datasets\\train\n",
    "# label_target C:\\Application\\Develop\\CRNN_Chinese_Characters_Rec_data\\datasets\\train\\label.txt\n",
    "# separator label.txt to train.txt and test.txt\n",
    "\n",
    "# include check image orentation\n",
    "# include check image size and padding to width\n",
    "# include encode train.txt and test.txt label to index"
   ]
  },
  {
   "cell_type": "code",
   "execution_count": 10,
   "metadata": {},
   "outputs": [],
   "source": [
    "import glob\n",
    "import os \n",
    "import cv2\n",
    "import shutil\n",
    "import time\n",
    "from PIL import Image, ImageOps\n",
    "import tqdm\n",
    "# from tqdm.notebook import tqdm\n"
   ]
  },
  {
   "cell_type": "code",
   "execution_count": 22,
   "metadata": {},
   "outputs": [
    {
     "name": "stdout",
     "output_type": "stream",
     "text": [
      "8 ['std_fi_cs0sw0_300000', 'std_fi_cs0sw0_or1_300000', 'std_fi_cs0sw1_300000', 'std_fi_cs0sw1_or1_300000', 'std_nofi_cs0sw0_300000', 'std_nofi_cs0sw0_or1_300000', 'std_nofi_cs0sw1_300000', 'std_nofi_cs0sw1_or1_300000']\n"
     ]
    }
   ],
   "source": [
    "# generate folder list\n",
    "# folders = [f for f in os.listdir('C:\\Application\\Develop\\CRNN_Chinese_Characters_Rec_data\\datasets\\\\')]\n",
    "folders = [f for f in os.listdir('C:\\Develop\\CRNN_Chinese_Characters_Rec_data\\datasets\\\\')]\n",
    "# folders 裡面只有 train 資料夾(不要 vaild test)跟其他實際資料的各個資料夾\n",
    "# 因為 train/labels.txt 檔案為附加寫入，所以要刪掉讓他重新產生新檔案\n",
    "folders.remove('train')\n",
    "\n",
    "# folders.remove('opposite_01')\n",
    "# folders = ['enum_02_20k','vrt_06_50k']\n",
    "\n",
    "print(len(folders),folders)"
   ]
  },
  {
   "cell_type": "code",
   "execution_count": 24,
   "metadata": {},
   "outputs": [
    {
     "name": "stdout",
     "output_type": "stream",
     "text": [
      "Thread 0 std_fi_cs0sw0_300000\n",
      "process std_fi_cs0sw0_300000 folder labels txt\n",
      "Thread 1 std_fi_cs0sw0_or1_300000\n",
      "process std_fi_cs0sw0_or1_300000 folder labels txt\n",
      "Thread 2 std_fi_cs0sw1_300000\n",
      "process std_fi_cs0sw1_300000 folder labels txt\n",
      "Thread 3 std_fi_cs0sw1_or1_300000\n",
      "process std_fi_cs0sw1_or1_300000 folder labels txt\n",
      "Thread 4 std_nofi_cs0sw0_300000\n",
      "process std_nofi_cs0sw0_300000 folder labels txt\n",
      "Thread 5 std_nofi_cs0sw0_or1_300000\n",
      "process std_nofi_cs0sw0_or1_300000 folder labels txt\n",
      "Thread 6 std_nofi_cs0sw1_300000\n",
      "process std_nofi_cs0sw1_300000 folder labels txt\n",
      "Thread 7 std_nofi_cs0sw1_or1_300000\n",
      "process std_nofi_cs0sw1_or1_300000 folder labels txt\n",
      "process std_nofi_cs0sw1_or1_300000 folder labels txt done.\n",
      "process std_fi_cs0sw1_or1_300000 folder labels txt done.\n",
      "process std_fi_cs0sw0_or1_300000 folder labels txt done.\n",
      "process std_fi_cs0sw1_300000 folder labels txt done.\n",
      "process std_nofi_cs0sw0_or1_300000 folder labels txt done.\n",
      "process std_nofi_cs0sw1_300000 folder labels txt done.\n",
      "process std_fi_cs0sw0_300000 folder labels txt done.\n",
      "process std_nofi_cs0sw0_300000 folder labels txt done.\n",
      "all process Done.\n"
     ]
    }
   ],
   "source": [
    "import time\n",
    "import threading\n",
    "import queue\n",
    "\n",
    "def proc_labels_txt(folder):\n",
    "    print('process {} folder labels txt'.format(folder))\n",
    "    # 根據檔案清單，合併到 train/labels.txt中，但是圖片原處處理不搬移，因為檔案太多讀不動\n",
    "    nlines = []\n",
    "    with open('C:\\Develop\\CRNN_Chinese_Characters_Rec_data\\datasets\\\\'+folder+'\\\\labels.txt', 'r', encoding='utf-8') as f:\n",
    "        lines = f.readlines()\n",
    "#         for line in tqdm.tqdm(lines):\n",
    "        for line in (lines):\n",
    "            image_path = line.split(' ')[0]\n",
    "            try:\n",
    "#                 # 這裡做旋轉\n",
    "#                 img = cv2.imread('C:\\Develop\\CRNN_Chinese_Characters_Rec_data\\datasets\\\\'+folder+'\\\\'+image_path)\n",
    "#                 h,w,c = img.shape\n",
    "#                 if h > w: # rotate 直的轉橫的逆時針90度\n",
    "#                     img = cv2.rotate(img, cv2.ROTATE_90_COUNTERCLOCKWISE)\n",
    "#                     cv2.imwrite('C:\\Develop\\CRNN_Chinese_Characters_Rec_data\\datasets\\\\'+folder+'\\\\'+image_path, img)\n",
    "                location = len(image_path)\n",
    "                nlines.append(folder + '/' + image_path + line[location:])\n",
    "            except:\n",
    "#                 print(folder + '/' + image_path + line[location:])\n",
    "                pass\n",
    "    # 因為同時一筆一筆寫入 train/labels.txt 會出錯，所以拆開，資料夾分開最後再依序寫入\n",
    "    with open('C:\\Develop\\CRNN_Chinese_Characters_Rec_data\\datasets\\\\'+folder+'\\\\nlabels.txt', 'w', encoding='utf-8') as f:\n",
    "        for item in nlines:\n",
    "            f.write(\"{}\".format(item))      \n",
    "    print('process {} folder labels txt done.'.format(folder))\n",
    "\n",
    "\n",
    "import threading\n",
    "import time\n",
    "\n",
    "# 子執行緒類別\n",
    "class MyThread(threading.Thread):\n",
    "  def __init__(self, num, folder):\n",
    "    threading.Thread.__init__(self)\n",
    "    self.num = num\n",
    "    self.folder = folder\n",
    "\n",
    "  def run(self):\n",
    "    print(\"Thread\", self.num, self.folder)\n",
    "    proc_labels_txt(self.folder)\n",
    "    time.sleep(0.1)\n",
    "\n",
    "# 建立 5 個子執行緒\n",
    "threads = []\n",
    "for i, folder in enumerate(folders):\n",
    "  threads.append(MyThread(i, folder))\n",
    "  threads[i].start()\n",
    "\n",
    "# 主執行緒繼續執行自己的工作\n",
    "# ...\n",
    "\n",
    "# 等待所有子執行緒結束\n",
    "for i in range(len(folders)):\n",
    "  threads[i].join()\n",
    "\n",
    "# write a empyt txt file\n",
    "f = open('C:\\Develop\\CRNN_Chinese_Characters_Rec_data\\datasets\\\\train\\\\labels.txt', 'w', encoding='utf-8')\n",
    "f.close()\n",
    "\n",
    "for folder in folders:\n",
    "    f1 = open('C:\\Develop\\CRNN_Chinese_Characters_Rec_data\\datasets\\\\train\\\\labels.txt', 'a+', encoding='utf-8')\n",
    "    f2 = open('C:\\Develop\\CRNN_Chinese_Characters_Rec_data\\datasets\\\\'+folder+'\\\\nlabels.txt', 'r', encoding='utf-8')\n",
    "    f1.write(f2.read()) \n",
    "    f1.close()\n",
    "    f2.close()\n",
    "\n",
    "print(\"all process Done.\")"
   ]
  },
  {
   "cell_type": "code",
   "execution_count": 5,
   "metadata": {
    "scrolled": true
   },
   "outputs": [],
   "source": [
    "### 這跟上面那格依樣功能(重複，別做!!!)\n",
    "\n",
    "# for folder in folders:\n",
    "#     print(folder)\n",
    "#     # 根據檔案清單，合併到 train/labels.txt中，但是圖片原處處理不搬移，因為檔案太多讀不動\n",
    "#     with open('C:\\Develop\\CRNN_Chinese_Characters_Rec_data\\datasets\\\\'+folder+'\\\\labels.txt', 'r', encoding='utf-8') as f:\n",
    "#         lines = f.readlines()\n",
    "#         for line in tqdm.tqdm(lines):\n",
    "#             image_path = line.split(' ')[0]\n",
    "#             try:\n",
    "#                 img = cv2.imread('C:\\Develop\\CRNN_Chinese_Characters_Rec_data\\datasets\\\\'+folder+'\\\\'+image_path)\n",
    "#                 h,w,c = img.shape\n",
    "#                 # print(img.shape)\n",
    "#                 if h > w: # rotate 直的轉橫的逆時針90度\n",
    "#                     img = cv2.rotate(img, cv2.ROTATE_90_COUNTERCLOCKWISE)\n",
    "#                     # h,w,c = img.shape\n",
    "#                     # print(img.shape)\n",
    "#                     # cv2.imshow('img', img)\n",
    "#                     # pause = cv2.waitKey(0)\n",
    "#                     cv2.imwrite('C:\\Develop\\CRNN_Chinese_Characters_Rec_data\\datasets\\\\'+folder+'\\\\'+image_path, img)\n",
    "#                     # print('rotate')\n",
    "#                 # os.rename('C:\\Application\\Develop\\CRNN_Chinese_Characters_Rec_data\\datasets\\\\'+folder+'\\\\'+image_path, 'C:\\Application\\Develop\\CRNN_Chinese_Characters_Rec_data\\datasets\\\\train\\\\'+image_path)\n",
    "#                 # copy to target folder 這樣可以重複執行(不過labels.txt會重複要先刪除)\n",
    "#     #             shutil.copyfile('C:\\Application\\Develop\\CRNN_Chinese_Characters_Rec_data\\datasets\\\\'+folder+'\\\\'+image_path, 'C:\\Application\\Develop\\CRNN_Chinese_Characters_Rec_data\\datasets\\\\train\\\\'+image_path)\n",
    "#                 # 計算檔名長度及位置，修改路徑(原位置不搬移)後，產生新的label line\n",
    "#                 location = len(image_path)\n",
    "#                 line = folder + '/' + image_path + line[location:]\n",
    "#                 # 將標籤寫道檔案中 (train\\label.txt) 模式是 append\n",
    "#                 with open('C:\\Develop\\CRNN_Chinese_Characters_Rec_data\\datasets\\\\train\\\\labels.txt', 'a', encoding='utf-8') as f:\n",
    "#                     f.write(line)\n",
    "#             except:\n",
    "#                 pass\n",
    "#     time.sleep(0.1) # 暫停0.1秒避免 labels.txt 檔案被占用\n"
   ]
  },
  {
   "cell_type": "code",
   "execution_count": 7,
   "metadata": {},
   "outputs": [],
   "source": [
    "# f.close()\n",
    "# del lines\n",
    "# import gc\n",
    "# gc.collect(generation=2)"
   ]
  },
  {
   "cell_type": "code",
   "execution_count": 11,
   "metadata": {
    "scrolled": true
   },
   "outputs": [
    {
     "name": "stdout",
     "output_type": "stream",
     "text": [
      "2400000\n"
     ]
    },
    {
     "name": "stderr",
     "output_type": "stream",
     "text": [
      "100%|████████████████████████████████████████████████████████████████████████████████████████████████████████████████████████████| 2400000/2400000 [21:03<00:00, 1899.52it/s]\n"
     ]
    },
    {
     "name": "stdout",
     "output_type": "stream",
     "text": [
      "图像最大尺寸大小： 888 32\n"
     ]
    },
    {
     "name": "stderr",
     "output_type": "stream",
     "text": [
      " 12%|███████████████▌                                                                                                             | 299947/2400000 [02:43<19:04, 1834.36it/s]C:\\Users\\rchiu\\AppData\\Local\\Temp\\ipykernel_9744\\454481095.py:27: DeprecationWarning: LINEAR is deprecated and will be removed in Pillow 10 (2023-07-01). Use BILINEAR or Resampling.BILINEAR instead.\n",
      "  img = ImageOps.pad(img, (w_max, h), method=Image.LINEAR, color=(255,255,255), centering=(0, 0))\n",
      "100%|███████████████████████████████████████████████████████████████████████████████████████████████████████████████████████████| 2400000/2400000 [1:09:16<00:00, 577.36it/s]\n"
     ]
    }
   ],
   "source": [
    "# # 這裡很慢 \n",
    "# # 前面步驟已做旋轉，這裡才不會出問題\n",
    "# # 因為產生直的圖片尺寸不一，所以要padding到一樣的尺寸\n",
    "\n",
    "# import glob\n",
    "# images = glob.glob('C:\\Develop\\CRNN_Chinese_Characters_Rec_data\\datasets\\\\*\\\\*.jpg', recursive = True)\n",
    "# print(len(images))\n",
    "# w_max, h_max = 0, 0\n",
    "# for image in tqdm.tqdm(images):\n",
    "#     # 不用打開圖片，直接獲取圖片尺寸大小（width, height）\n",
    "#     with Image.open(image) as img:\n",
    "#     # 获取图像尺寸大小（width, height）\n",
    "#         w, h = img.size\n",
    "#         if w_max < w:\n",
    "#             w_max = w\n",
    "#         if h_max < h:\n",
    "#             h_max = h\n",
    "#     # 打印尺寸大小\n",
    "# print(\"图像最大尺寸大小：\", w_max, h_max)\n",
    "\n",
    "# # w_max, h_max = 888, 32\n",
    "\n",
    "# # padding\n",
    "# for image in tqdm.tqdm(images):\n",
    "#     with Image.open(image) as img:\n",
    "#         w, h = img.size\n",
    "#         if w < w_max:\n",
    "#             img = ImageOps.pad(img, (w_max, h), method=Image.LINEAR, color=(255,255,255), centering=(0, 0))\n",
    "#             img.save(image)\n",
    "#             # print('padding')\n"
   ]
  },
  {
   "cell_type": "code",
   "execution_count": 25,
   "metadata": {},
   "outputs": [
    {
     "name": "stdout",
     "output_type": "stream",
     "text": [
      "2400000\n"
     ]
    }
   ],
   "source": [
    "# 檢查一下圖片數量\n",
    "with open('C:\\Develop\\CRNN_Chinese_Characters_Rec_data\\datasets\\\\train\\\\labels.txt', 'r', encoding='utf-8') as f:\n",
    "    lines = f.readlines()\n",
    "print(len(lines))\n"
   ]
  },
  {
   "cell_type": "code",
   "execution_count": 26,
   "metadata": {},
   "outputs": [
    {
     "name": "stdout",
     "output_type": "stream",
     "text": [
      "2400000 2280000 120000\n"
     ]
    }
   ],
   "source": [
    "# 隨機打亂標籤檔案\n",
    "import random\n",
    "random.shuffle(lines)\n",
    "random.shuffle(lines)\n",
    "random.shuffle(lines)\n",
    "total_num = len(lines)\n",
    "rate = 0.95\n",
    "print(len(lines), int(total_num * rate), total_num-int(total_num * rate))\n",
    "\n",
    "with open('C:\\Develop\\CRNN_Chinese_Characters_Rec_data\\datasets\\\\train\\\\train.txt', 'w', encoding='utf-8') as f:\n",
    "    for line in lines[:int(total_num * rate)]:\n",
    "        f.write(line)\n",
    "\n",
    "with open('C:\\Develop\\CRNN_Chinese_Characters_Rec_data\\datasets\\\\train\\\\test.txt', 'w', encoding='utf-8') as f:\n",
    "    for line in lines[int(total_num * rate):]:\n",
    "        f.write(line)"
   ]
  },
  {
   "cell_type": "code",
   "execution_count": 27,
   "metadata": {},
   "outputs": [
    {
     "name": "stdout",
     "output_type": "stream",
     "text": [
      "2280000\n",
      "120000\n"
     ]
    }
   ],
   "source": [
    "'''\n",
    "產生中文训练集标签 只有 train & valid (test) 兩部分，沒有 test!\n",
    "'''\n",
    "\n",
    "# chinese characters dictionary for 3.6 million data set.\n",
    "with open('C:\\Develop\\CRNN_Chinese_Characters_Rec\\lib\\dataset\\\\txt\\char_std_zhcn_8000.txt', 'r', encoding='utf-8') as file:\n",
    "    char_dict = {char.replace('\\n','') : num for num, char in enumerate(file.readlines())}\n",
    "\n",
    "# # processing output\n",
    "with open('C:\\Develop\\CRNN_Chinese_Characters_Rec_data\\datasets\\\\train\\\\train.txt', 'r', encoding='utf-8') as file:\n",
    "    new_output = []\n",
    "    for segment_list in file.readlines():\n",
    "        segment_list = segment_list.replace('\\n','')\n",
    "        img_name = segment_list.split(' ')[0]\n",
    "        img_name_len = len(img_name)\n",
    "        # print(segment_list)\n",
    "        segment_list = segment_list[img_name_len+1:]\n",
    "        # print(segment_list)\n",
    "        new_segment_list = ''\n",
    "        for w in segment_list:\n",
    "            new_segment_list += str(char_dict[w]) + ' '\n",
    "        # print(new_segment_list)\n",
    "        new_output.append(img_name + ' ' + new_segment_list[:-1]) # 去掉最後一個空白\n",
    "    print(len(new_output))\n",
    "\n",
    "# final output\n",
    "with open('C:\\Develop\\CRNN_Chinese_Characters_Rec_data\\datasets\\\\train\\\\train_code.txt', 'w', encoding='utf-8') as file:\n",
    "    [file.write(val+'\\n') for val in new_output]\n",
    "\n",
    "# valid part 5%\n",
    "# # processing output\n",
    "with open('C:\\Develop\\CRNN_Chinese_Characters_Rec_data\\datasets\\\\train\\\\test.txt', 'r', encoding='utf-8') as file:\n",
    "    new_output = []\n",
    "    for segment_list in file.readlines():\n",
    "        segment_list = segment_list.replace('\\n','')\n",
    "        img_name = segment_list.split(' ')[0]\n",
    "        img_name_len = len(img_name)\n",
    "        # print(segment_list)\n",
    "        segment_list = segment_list[img_name_len+1:]\n",
    "        # print(segment_list)\n",
    "        new_segment_list = ''\n",
    "        for w in segment_list:\n",
    "            new_segment_list += str(char_dict[w]) + ' ' # 每個字構面加一個空白符\n",
    "        # print(new_segment_list)\n",
    "        new_output.append(img_name + ' ' + new_segment_list[:-1]) # 去掉最後一個空白\n",
    "    print(len(new_output))\n",
    "\n",
    "# final output\n",
    "with open('C:\\Develop\\CRNN_Chinese_Characters_Rec_data\\datasets\\\\train\\\\test_code.txt', 'w', encoding='utf-8') as file:\n",
    "    [file.write(val+'\\n') for val in new_output]\n",
    "\n",
    "    \n"
   ]
  },
  {
   "cell_type": "code",
   "execution_count": 28,
   "metadata": {},
   "outputs": [
    {
     "data": {
      "text/plain": [
       "True"
      ]
     },
     "execution_count": 28,
     "metadata": {},
     "output_type": "execute_result"
    }
   ],
   "source": [
    "char_dict[' '] == 1"
   ]
  },
  {
   "cell_type": "code",
   "execution_count": 29,
   "metadata": {},
   "outputs": [
    {
     "data": {
      "text/plain": [
       "1396"
      ]
     },
     "execution_count": 29,
     "metadata": {},
     "output_type": "execute_result"
    }
   ],
   "source": [
    "char_dict['妥']"
   ]
  },
  {
   "cell_type": "code",
   "execution_count": null,
   "metadata": {},
   "outputs": [],
   "source": []
  },
  {
   "cell_type": "code",
   "execution_count": null,
   "metadata": {},
   "outputs": [],
   "source": []
  },
  {
   "cell_type": "code",
   "execution_count": null,
   "metadata": {},
   "outputs": [],
   "source": []
  },
  {
   "cell_type": "code",
   "execution_count": null,
   "metadata": {},
   "outputs": [],
   "source": [
    "# # 特別處理   這不需要了 是誤會一場 圖片讀取速度很快不用特別放一起\n",
    "# import os, shutil \n",
    "# try:\n",
    "#     os.mkdir('C:/Develop/CRNN_Chinese_Characters_Rec_data/datasets/valid')\n",
    "# except:\n",
    "#     pass\n",
    "# # # processing output\n",
    "# with open('C:\\Develop\\CRNN_Chinese_Characters_Rec_data\\datasets\\\\train\\\\test_code.txt', 'r', encoding='utf-8') as file:\n",
    "#     new_output = []\n",
    "#     for segment_list in file.readlines():\n",
    "#         segment_list = segment_list.replace('\\n','')\n",
    "#         img_name = segment_list.split(' ')[0]\n",
    "#         jpg_name = img_name.split('/')[1]\n",
    "#         shutil.copyfile('C:/Develop/CRNN_Chinese_Characters_Rec_data/datasets/'+img_name, 'C:\\Develop\\CRNN_Chinese_Characters_Rec_data\\datasets\\\\valid\\\\'+jpg_name)\n",
    "#         img_name_len = len(img_name)\n",
    "#         segment_list = segment_list[img_name_len+1:]\n",
    "#         new_segment = 'valid/'+jpg_name+' '+segment_list  # a str\n",
    "#         new_output.append(new_segment) # 去掉最後一個空白\n",
    "#     print(len(new_output))\n",
    "\n",
    "# # final output\n",
    "# with open('C:\\Develop\\CRNN_Chinese_Characters_Rec_data\\datasets\\\\train\\\\test_code_valid.txt', 'w', encoding='utf-8') as file:\n",
    "#     [file.write(val+'\\n') for val in new_output]\n"
   ]
  },
  {
   "cell_type": "code",
   "execution_count": null,
   "metadata": {},
   "outputs": [],
   "source": []
  },
  {
   "cell_type": "code",
   "execution_count": null,
   "metadata": {},
   "outputs": [],
   "source": []
  }
 ],
 "metadata": {
  "kernelspec": {
   "display_name": "Python 3 (ipykernel)",
   "language": "python",
   "name": "python3"
  },
  "language_info": {
   "codemirror_mode": {
    "name": "ipython",
    "version": 3
   },
   "file_extension": ".py",
   "mimetype": "text/x-python",
   "name": "python",
   "nbconvert_exporter": "python",
   "pygments_lexer": "ipython3",
   "version": "3.10.11"
  }
 },
 "nbformat": 4,
 "nbformat_minor": 2
}
