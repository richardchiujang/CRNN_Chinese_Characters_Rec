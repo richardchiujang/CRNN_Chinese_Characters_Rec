{
 "cells": [
  {
   "cell_type": "code",
   "execution_count": 24,
   "metadata": {},
   "outputs": [],
   "source": [
    "import torch\n",
    "from lib.utils.utils import model_info\n",
    "import lib.models.crnn as crnn"
   ]
  },
  {
   "cell_type": "code",
   "execution_count": 25,
   "metadata": {},
   "outputs": [],
   "source": [
    "checkpoint_path = 'output/checkpoints/checkpoint_349_acc_0.9797.pth'\n",
    "checkpoint = torch.load(checkpoint_path, map_location='cpu')"
   ]
  },
  {
   "cell_type": "code",
   "execution_count": 26,
   "metadata": {},
   "outputs": [
    {
     "name": "stdout",
     "output_type": "stream",
     "text": [
      "rename_list: [['cnn.module.conv0.weight', 'cnn.conv0.weight'], ['cnn.module.conv0.bias', 'cnn.conv0.bias'], ['cnn.module.conv1.weight', 'cnn.conv1.weight'], ['cnn.module.conv1.bias', 'cnn.conv1.bias'], ['cnn.module.conv2.weight', 'cnn.conv2.weight'], ['cnn.module.conv2.bias', 'cnn.conv2.bias'], ['cnn.module.batchnorm2.weight', 'cnn.batchnorm2.weight'], ['cnn.module.batchnorm2.bias', 'cnn.batchnorm2.bias'], ['cnn.module.batchnorm2.running_mean', 'cnn.batchnorm2.running_mean'], ['cnn.module.batchnorm2.running_var', 'cnn.batchnorm2.running_var'], ['cnn.module.batchnorm2.num_batches_tracked', 'cnn.batchnorm2.num_batches_tracked'], ['cnn.module.conv3.weight', 'cnn.conv3.weight'], ['cnn.module.conv3.bias', 'cnn.conv3.bias'], ['cnn.module.conv4.weight', 'cnn.conv4.weight'], ['cnn.module.conv4.bias', 'cnn.conv4.bias'], ['cnn.module.batchnorm4.weight', 'cnn.batchnorm4.weight'], ['cnn.module.batchnorm4.bias', 'cnn.batchnorm4.bias'], ['cnn.module.batchnorm4.running_mean', 'cnn.batchnorm4.running_mean'], ['cnn.module.batchnorm4.running_var', 'cnn.batchnorm4.running_var'], ['cnn.module.batchnorm4.num_batches_tracked', 'cnn.batchnorm4.num_batches_tracked'], ['cnn.module.conv5.weight', 'cnn.conv5.weight'], ['cnn.module.conv5.bias', 'cnn.conv5.bias'], ['cnn.module.conv6.weight', 'cnn.conv6.weight'], ['cnn.module.conv6.bias', 'cnn.conv6.bias'], ['cnn.module.batchnorm6.weight', 'cnn.batchnorm6.weight'], ['cnn.module.batchnorm6.bias', 'cnn.batchnorm6.bias'], ['cnn.module.batchnorm6.running_mean', 'cnn.batchnorm6.running_mean'], ['cnn.module.batchnorm6.running_var', 'cnn.batchnorm6.running_var'], ['cnn.module.batchnorm6.num_batches_tracked', 'cnn.batchnorm6.num_batches_tracked'], ['rnn.module.0.rnn.weight_ih_l0', 'rnn.0.rnn.weight_ih_l0'], ['rnn.module.0.rnn.weight_hh_l0', 'rnn.0.rnn.weight_hh_l0'], ['rnn.module.0.rnn.bias_ih_l0', 'rnn.0.rnn.bias_ih_l0'], ['rnn.module.0.rnn.bias_hh_l0', 'rnn.0.rnn.bias_hh_l0'], ['rnn.module.0.rnn.weight_ih_l0_reverse', 'rnn.0.rnn.weight_ih_l0_reverse'], ['rnn.module.0.rnn.weight_hh_l0_reverse', 'rnn.0.rnn.weight_hh_l0_reverse'], ['rnn.module.0.rnn.bias_ih_l0_reverse', 'rnn.0.rnn.bias_ih_l0_reverse'], ['rnn.module.0.rnn.bias_hh_l0_reverse', 'rnn.0.rnn.bias_hh_l0_reverse'], ['rnn.module.0.embedding.weight', 'rnn.0.embedding.weight'], ['rnn.module.0.embedding.bias', 'rnn.0.embedding.bias'], ['rnn.module.1.rnn.weight_ih_l0', 'rnn.1.rnn.weight_ih_l0'], ['rnn.module.1.rnn.weight_hh_l0', 'rnn.1.rnn.weight_hh_l0'], ['rnn.module.1.rnn.bias_ih_l0', 'rnn.1.rnn.bias_ih_l0'], ['rnn.module.1.rnn.bias_hh_l0', 'rnn.1.rnn.bias_hh_l0'], ['rnn.module.1.rnn.weight_ih_l0_reverse', 'rnn.1.rnn.weight_ih_l0_reverse'], ['rnn.module.1.rnn.weight_hh_l0_reverse', 'rnn.1.rnn.weight_hh_l0_reverse'], ['rnn.module.1.rnn.bias_ih_l0_reverse', 'rnn.1.rnn.bias_ih_l0_reverse'], ['rnn.module.1.rnn.bias_hh_l0_reverse', 'rnn.1.rnn.bias_hh_l0_reverse'], ['rnn.module.1.embedding.weight', 'rnn.1.embedding.weight'], ['rnn.module.1.embedding.bias', 'rnn.1.embedding.bias']]\n"
     ]
    }
   ],
   "source": [
    "rename_list = []    # 用來存放新舊名稱的對應關係\n",
    "old_list = list(checkpoint['state_dict'].keys())\n",
    "# for ol in old_list:\n",
    "#     rename_list.append([ol, ol.replace('module.', '')])\n",
    "# print('rename_list:', rename_list)\n"
   ]
  },
  {
   "cell_type": "code",
   "execution_count": 27,
   "metadata": {},
   "outputs": [],
   "source": [
    "for key in old_list:\n",
    "    checkpoint['state_dict'][key.replace('module.', '')] = checkpoint['state_dict'].pop(key)\n",
    "\n"
   ]
  },
  {
   "cell_type": "code",
   "execution_count": 29,
   "metadata": {},
   "outputs": [],
   "source": [
    "torch.save(checkpoint, 'output/checkpoints/checkpoint_349_acc_0.9797_rename.pth')"
   ]
  },
  {
   "cell_type": "code",
   "execution_count": 30,
   "metadata": {},
   "outputs": [
    {
     "data": {
      "text/plain": [
       "['0.jpg',\n",
       " '1.jpg',\n",
       " '10.jpg',\n",
       " '112802.jpg',\n",
       " '2.jpg',\n",
       " '29 112901.jpg',\n",
       " '29 112923.jpg',\n",
       " '29 113026.jpg',\n",
       " '29 113127.jpg',\n",
       " '29 113319.jpg',\n",
       " '29 113339.jpg',\n",
       " '3.jpg',\n",
       " '4.jpg',\n",
       " '5.jpg',\n",
       " '6.jpg',\n",
       " '7.jpg',\n",
       " '8.jpg',\n",
       " '9.jpg',\n",
       " '9912716.jpg',\n",
       " 'opposite_01_83.jpg',\n",
       " 'opposite_01_84.jpg',\n",
       " 'opposite_01_85.jpg',\n",
       " 'opposite_01_86.jpg',\n",
       " 'opposite_01_87.jpg',\n",
       " 'opposite_01_88.jpg',\n",
       " 'test.jpg',\n",
       " 'test.png',\n",
       " 'test_2.jpg',\n",
       " 'test_2.png',\n",
       " 'v29 113201.jpg',\n",
       " 'v29 113228.jpg',\n",
       " 'v29 113403.jpg',\n",
       " 'v29 113426.jpg',\n",
       " 'vertical_02_4319.jpg',\n",
       " 'vertical_02_4320.jpg',\n",
       " 'vertical_02_4321.jpg',\n",
       " 'vertical_02_4322.jpg',\n",
       " 'vertical_02_4323.jpg',\n",
       " 'vertical_02_4324.jpg',\n",
       " 'vertical_02_4325.jpg',\n",
       " 'vertical_02_4326.jpg',\n",
       " 'vertical_02_4327.jpg',\n",
       " 'vertical_02_4328.jpg',\n",
       " 'vertical_02_4329.jpg',\n",
       " 'vertical_02_4330.jpg',\n",
       " 'vertical_02_4331.jpg',\n",
       " 'vertical_02_4332.jpg',\n",
       " 'vertical_02_4333.jpg',\n",
       " 'vertical_02_4334.jpg',\n",
       " 'vertical_02_4335.jpg',\n",
       " 'vertical_02_4336.jpg',\n",
       " 'vertical_02_4337.jpg',\n",
       " 'vertical_02_4338.jpg',\n",
       " 'vertical_02_4339.jpg',\n",
       " 'vertical_02_4340.jpg',\n",
       " 'vertical_02_4341.jpg',\n",
       " 'vertical_02_4342.jpg',\n",
       " 'vertical_02_4343.jpg',\n",
       " 'vertical_02_4344.jpg',\n",
       " 'vertical_02_4345.jpg',\n",
       " 'vertical_02_4346.jpg',\n",
       " 'vertical_02_4347.jpg',\n",
       " 'vertical_02_4348.jpg',\n",
       " 'vertical_02_4349.jpg',\n",
       " 'vertical_02_4350.jpg',\n",
       " 'vertical_02_4351.jpg',\n",
       " 'vertical_02_4352.jpg',\n",
       " 'vertical_02_4353.jpg',\n",
       " 'vertical_02_4354.jpg',\n",
       " 'vertical_02_4355.jpg',\n",
       " 'vertical_02_4356.jpg',\n",
       " 'vertical_02_4357.jpg',\n",
       " 'vertical_02_4358.jpg',\n",
       " 'vertical_02_4359.jpg',\n",
       " 'vertical_02_4360.jpg',\n",
       " 'vertical_02_4361.jpg',\n",
       " 'vertical_02_4362.jpg',\n",
       " 'vertical_02_4363.jpg',\n",
       " 'vertical_02_4364.jpg',\n",
       " 'vertical_02_4365.jpg',\n",
       " 'vertical_02_4366.jpg',\n",
       " 'vertical_02_4367.jpg',\n",
       " 'vertical_02_4368.jpg',\n",
       " 'vertical_02_4369.jpg',\n",
       " 'vertical_02_4370.jpg',\n",
       " 'vertical_02_4371.jpg',\n",
       " 'vertical_02_4372.jpg',\n",
       " 'vertical_02_4373.jpg',\n",
       " 'vertical_02_4374.jpg',\n",
       " 'vertical_02_4375.jpg',\n",
       " 'vertical_02_4376.jpg',\n",
       " 'vertical_02_4377.jpg',\n",
       " 'vertical_02_4378.jpg',\n",
       " 'vertical_02_4379.jpg',\n",
       " 'vertical_02_4380.jpg',\n",
       " 'vertical_02_4381.jpg',\n",
       " 'vertical_02_4382.jpg',\n",
       " 'vertical_02_4383.jpg',\n",
       " 'vertical_02_4384.jpg',\n",
       " 'vertical_02_4385.jpg',\n",
       " 'vertical_02_4386.jpg',\n",
       " 'vertical_02_4387.jpg',\n",
       " 'vertical_02_4388.jpg',\n",
       " 'vertical_02_4389.jpg',\n",
       " 'vertical_02_4390.jpg',\n",
       " 'vertical_02_4391.jpg',\n",
       " 'vertical_02_4392.jpg',\n",
       " 'vertical_02_4393.jpg',\n",
       " 'vertical_02_4394.jpg',\n",
       " 'vertical_02_4395.jpg',\n",
       " 'vertical_02_4396.jpg',\n",
       " 'vertical_02_4397.jpg',\n",
       " 'vertical_02_4398.jpg']"
      ]
     },
     "execution_count": 30,
     "metadata": {},
     "output_type": "execute_result"
    }
   ],
   "source": [
    "import os \n",
    "os.listdir('images')"
   ]
  },
  {
   "cell_type": "code",
   "execution_count": null,
   "metadata": {},
   "outputs": [],
   "source": []
  },
  {
   "cell_type": "code",
   "execution_count": null,
   "metadata": {},
   "outputs": [],
   "source": []
  }
 ],
 "metadata": {
  "kernelspec": {
   "display_name": "hch_ocr",
   "language": "python",
   "name": "python3"
  },
  "language_info": {
   "codemirror_mode": {
    "name": "ipython",
    "version": 3
   },
   "file_extension": ".py",
   "mimetype": "text/x-python",
   "name": "python",
   "nbconvert_exporter": "python",
   "pygments_lexer": "ipython3",
   "version": "3.10.11"
  },
  "orig_nbformat": 4
 },
 "nbformat": 4,
 "nbformat_minor": 2
}
